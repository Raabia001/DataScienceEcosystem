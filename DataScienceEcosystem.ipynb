{
 "cells": [
  {
   "cell_type": "markdown",
   "id": "5ae135af-129b-4fd2-bab4-5798e61a708a",
   "metadata": {},
   "source": [
    "# Data Science Tools and Ecosystem"
   ]
  },
  {
   "cell_type": "markdown",
   "id": "2209508d-7511-4c9e-a7c9-161a7745fbf1",
   "metadata": {},
   "source": [
    "## Author\n",
    "Raabia Ahmed"
   ]
  },
  {
   "cell_type": "markdown",
   "id": "c9838bb8-263b-4c73-960e-d9e9faf06fa0",
   "metadata": {},
   "source": [
    "In this notebook, Data Science Tools and Ecosystem are summarized."
   ]
  },
  {
   "cell_type": "markdown",
   "id": "491d5290-6fb6-44d3-8cde-f1a94cd54402",
   "metadata": {},
   "source": [
    "- Objectives:\n",
    "    - List popular languages for Data Science\n",
    "    - List open-source development environments for data science\n",
    "    - List popular libraries for data science\n",
    "    - List popular tools for data science"
   ]
  },
  {
   "cell_type": "markdown",
   "id": "972ace63-76da-4970-b925-bec7640f814d",
   "metadata": {},
   "source": [
    "Some of the popular languages that Data Scientists use are:\n",
    "1. Python\n",
    "2. R\n",
    "3. Ruby"
   ]
  },
  {
   "cell_type": "code",
   "execution_count": null,
   "id": "ea57ac46-eb77-4440-bbd4-96e8d69ce444",
   "metadata": {},
   "outputs": [],
   "source": [
    "Some of the commonly used libraries used by Data Scientists include:\n",
    "1. Matplotlib\n",
    "2. NumPy\n",
    "3. Pandas"
   ]
  },
  {
   "cell_type": "markdown",
   "id": "fc5c3594-3b4e-4a11-b7b7-c8dec5744cdd",
   "metadata": {},
   "source": [
    "|Data Science Tools|\n",
    "|------------------|\n",
    "|R Studio|\n",
    "|TensorFlow|\n",
    "|Spyder|"
   ]
  },
  {
   "cell_type": "markdown",
   "id": "d05a7a76-368f-4cf2-a65a-9d06a85b54da",
   "metadata": {},
   "source": [
    "### Below are a few examples of evaluating arithmetic expressions in Python\n",
    "1 + 1\n",
    "2 * 3\n",
    "5 - 6"
   ]
  },
  {
   "cell_type": "code",
   "execution_count": 8,
   "id": "f20236e3-a682-4170-84ed-0a3e90fd3d77",
   "metadata": {},
   "outputs": [
    {
     "data": {
      "text/plain": [
       "17"
      ]
     },
     "execution_count": 8,
     "metadata": {},
     "output_type": "execute_result"
    }
   ],
   "source": [
    "# This a simple arithmetic expression to mutiply then add integers\n",
    "(3*4) + 5"
   ]
  },
  {
   "cell_type": "code",
   "execution_count": 9,
   "id": "46e12b07-f9a0-4269-a854-2848011a489e",
   "metadata": {},
   "outputs": [
    {
     "data": {
      "text/plain": [
       "3.3333333333333335"
      ]
     },
     "execution_count": 9,
     "metadata": {},
     "output_type": "execute_result"
    }
   ],
   "source": [
    "# This will convert 200 minutes to hours by diving by 60\n",
    "200/60"
   ]
  }
 ],
 "metadata": {
  "kernelspec": {
   "display_name": "Python 3 (ipykernel)",
   "language": "python",
   "name": "python3"
  },
  "language_info": {
   "codemirror_mode": {
    "name": "ipython",
    "version": 3
   },
   "file_extension": ".py",
   "mimetype": "text/x-python",
   "name": "python",
   "nbconvert_exporter": "python",
   "pygments_lexer": "ipython3",
   "version": "3.9.19"
  }
 },
 "nbformat": 4,
 "nbformat_minor": 5
}
